{
 "cells": [
  {
   "cell_type": "markdown",
   "metadata": {},
   "source": [
    "# Project Description"
   ]
  },
  {
   "cell_type": "markdown",
   "metadata": {},
   "source": [
    "Let's show my chat-robot Titan. \n",
    "\n",
    "\n",
    "Titan is a more advanced char robot based on the robot we designed in homework3. Users can play guess game with Titan when typing \"guess\" as input. The guess game is like this: At first, users can set an integer range. Then, Titan will randomly choose a target integer in the range. So now users can guess which number Titan has choosen. During the process, Titan will give users hints about the target and count the times users try to guess before success. You can also type \"Quite_Game\" to quit. What's more, Titan can help users slove arithmetic problems if users type \"calculate\" as input. For this part, the input expression string can contain only non-negative integers, +, -, *, / operators , open (and closing parentheses) and empty spaces.  \n",
    "\n",
    "I have designed a start_game() function for the guess game part. I use while loop and if conditions to let the function work. For the calculator part I designed a recursive function to get the result of arithmetic expression. I also modified the have_a_chat() functions. Now if users type \"guess\" or \"calculate\", Titan can start guess game or calculator."
   ]
  },
  {
   "cell_type": "markdown",
   "metadata": {},
   "source": [
    "####  Citation："
   ]
  },
  {
   "cell_type": "markdown",
   "metadata": {},
   "source": [
    "https://leetcode.com/problems  \n",
    "https://cogs18.github.io/assignments/A3-Answers  \n",
    "I got the idea of arithmetic expression calculator from a leetcode problem.\n",
    "Titan use some of the code from assignment 3."
   ]
  },
  {
   "cell_type": "markdown",
   "metadata": {},
   "source": [
    "## Project Code\n",
    "\n",
    "If it makes sense for your project, you can have code and outputs here in the notebook as well."
   ]
  },
  {
   "cell_type": "code",
   "execution_count": 4,
   "metadata": {},
   "outputs": [],
   "source": [
    "import random\n",
    "from my_module.functions import generate_range, start_game, calculate, have_a_chat"
   ]
  },
  {
   "cell_type": "code",
   "execution_count": 5,
   "metadata": {},
   "outputs": [
    {
     "name": "stdout",
     "output_type": "stream",
     "text": [
      "INPUT :\thi\n",
      "OUTPUT: Hey - Let's chat!\n",
      "INPUT :\tlet's guess\n",
      "OUTPUT: Huh?\n",
      "Let's start guess game\n",
      "The Guess Game begin ! (๑‵●‿●‵๑)\n",
      "Low Range Input :\t100\n",
      "High Range Input :\t120\n",
      "Your guess :\t115\n",
      "Answer shall be smaller\n",
      "Your guess :\t113\n",
      "Answer shall be smaller\n",
      "Your guess :\t111\n",
      "Answer shall be bigger\n",
      "Your guess :\t112\n",
      "Great! The answer is:  112\n",
      "Number of attempts:  4\n",
      "Game Over, see you next time!\n",
      "INPUT :\tcalculate\n",
      "OUTPUT: Thanks!\n",
      "Let me help you to calculate ヽ(^o^)ノ❀ヅ❤♫\n",
      "Calculate Expression:\t(2+6* 3+5- (3*14/7+2)*5)+3\n",
      "The answer is:  -12\n",
      "INPUT :\tcalculate\n",
      "OUTPUT: Yeah!\n",
      "Let me help you to calculate ヽ(^o^)ノ❀ヅ❤♫\n",
      "Calculate Expression:\t2*(5+5*2)/3+(6/2+8)\n",
      "The answer is:  21\n",
      "INPUT :\tbye\n",
      "OUTPUT: Good.\n",
      "INPUT :\tquit\n",
      "OUTPUT: Bye!\n"
     ]
    }
   ],
   "source": [
    "have_a_chat()"
   ]
  },
  {
   "cell_type": "markdown",
   "metadata": {},
   "source": [
    "### Test functions"
   ]
  },
  {
   "cell_type": "code",
   "execution_count": 1,
   "metadata": {},
   "outputs": [],
   "source": [
    "from my_module.test_functions import test_generate_range, test_start_game, test_calculate"
   ]
  },
  {
   "cell_type": "code",
   "execution_count": 3,
   "metadata": {},
   "outputs": [],
   "source": [
    "test_generate_range()\n",
    "test_start_game()\n",
    "test_calculate()"
   ]
  }
 ],
 "metadata": {
  "kernelspec": {
   "display_name": "Python 3",
   "language": "python",
   "name": "python3"
  },
  "language_info": {
   "codemirror_mode": {
    "name": "ipython",
    "version": 3
   },
   "file_extension": ".py",
   "mimetype": "text/x-python",
   "name": "python",
   "nbconvert_exporter": "python",
   "pygments_lexer": "ipython3",
   "version": "3.6.8"
  }
 },
 "nbformat": 4,
 "nbformat_minor": 2
}
